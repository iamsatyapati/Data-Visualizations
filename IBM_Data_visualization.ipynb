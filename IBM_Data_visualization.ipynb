{
 "cells": [
  {
   "cell_type": "markdown",
   "metadata": {},
   "source": [
    "# Week 1\n",
    "source : https://labs.cognitiveclass.ai/tools/jupyterlab/lab/tree/labs/DV0101EN/DV0101EN-1-1-1-Introduction-to-Matplotlib-and-Line-Plots-py-v2.0.ipynb"
   ]
  },
  {
   "cell_type": "markdown",
   "metadata": {},
   "source": [
    "Purpose of data visualization: Data understanding, Reporting. Just remember, less is more attractive, less is more impactive and less is more effective. \n",
    "\n",
    "## Matplotlib\n",
    "\n",
    "Matplotlib has 3 layers\n",
    "\n",
    "1. Scripting layer: It is the appropriate layer for everyday purposes and is considered a lighter scripting interface to simplify common tasks and for a quick and easy generation of graphics and plots.\n",
    "2. Artist layer : Here much of the heavy lifting happens and is usually the appropriate programming paradigm when writing a web application server, or a UI application, or perhaps a script to be shared with other developers\n",
    "3. Backend Layer : It contains the backend stuffs.\n",
    "\n",
    "### Backend Layer\n",
    "\n",
    "It has 3 built in abstract interface classes. \n",
    "- FigureCanvas : matplotlib.backend_bases.FigureCanvas : It encompasses the area onto which the figure is done. \n",
    "- Renderer : matplotlib.backend_bases.Renderer : Knows how to draws on the figure canvas.\n",
    "- Event : matplotlib.backend_bases.Event : Handles user inputs such as keyboard strokes and mouse clicks.\n",
    "\n",
    "### Artist Layer\n",
    "\n",
    "It comprised of one main object - Artist. The artist knows how to use the renderer to draw on the canvas. Titles, lines, tick labels, and images all corresponds to individual artist instances. There are 2 types of artist instances:\n",
    "- Primitive: Line2d, rectangle, circle and text\n",
    "- Composite: Axis, tick, axes and figure.\n",
    "Each composite artist may contain other composite artists as well as primitive artists. \n",
    "\n",
    "The top-level Matplotlib object that contains and\n",
    "manages all of the elements in a given graphic is the figure artist, and the\n",
    "most important composite artist is the axes because it is where most of the\n",
    "Matplotlib API plotting methods are defined, including methods to create and\n",
    "manipulate the ticks, the axis lines, the grid or the plot background.\n"
   ]
  },
  {
   "cell_type": "code",
   "execution_count": 11,
   "metadata": {},
   "outputs": [],
   "source": [
    "# putting the artst layer in use\n",
    "from matplotlib.backends.backend_agg import FigureCanvasAgg, FigureCanvas\n",
    "from matplotlib.figure import Figure\n",
    "import numpy as np\n",
    "import matplotlib.pyplot as plt\n",
    "%matplotlib inline\n",
    "\n",
    "fig = Figure()\n",
    "canvas = FigureCanvas(fig)\n",
    "# agg stands for anti grain geometry, which is a high-performance library that produces attractive images\n",
    "\n",
    "x = np.random.randn(10000)\n",
    "ax = fig.add_subplot(111) # 111 means 1 row, 1 col and use 1st element\n",
    "\n",
    "ax.hist(x, 100)\n",
    "ax.set_title(\"figure\")\n",
    "fig.savefig('pic.png')"
   ]
  },
  {
   "cell_type": "markdown",
   "metadata": {},
   "source": [
    "### Scripting layer\n",
    "It is developed by scientists not by professional developers. It is mainly the pyplot module."
   ]
  },
  {
   "cell_type": "markdown",
   "metadata": {},
   "source": [
    "%matplotlib notebook \n",
    "\n",
    "With the notebook backend in place, if a plt function is called, it checks if an active figure exists, and any functions you call will be applied to this active figure. If a figure does not exist, it renders a new figure.\n",
    "\n",
    "### Line plots\n",
    "\n",
    "- A Line plot is a type of plot which display information as series of data points called markers connected by strainght line segment. \n",
    "- The best use case for a line plot is when you have a continuous dataset and you're interested in visualizing the data over a period of time.\n",
    "\n",
    "df.plot(kind='line') :  to plot line plots"
   ]
  },
  {
   "cell_type": "markdown",
   "metadata": {},
   "source": [
    "# Week 2\n",
    "source : https://labs.cognitiveclass.ai/tools/jupyterlab/lab/tree/labs/DV0101EN/DV0101EN-2-2-1-Area-Plots-Histograms-and-Bar-Charts-py-v2.0.ipynb"
   ]
  },
  {
   "cell_type": "markdown",
   "metadata": {},
   "source": [
    "### Area Plot\n",
    "It is also known as area chart or area graph. Commonly represented cumulated totals using numbers or percentages over time. It is based on line plots and commonly used when we try to compare 2 or more quantities.\n",
    "\n",
    "        df.plot(kind='area')\n",
    "        plt.show()\n",
    "        \n",
    "### Histogram\n",
    "A histogram is a way of representing frequency distribution of a variable. To plot the histogram:\n",
    "\n",
    "        count, bin_edges = np.histogram(df[col]) # To create adjusted xticks\n",
    "        df['col'].plot(kind='hist', xticks=bin_edges)\n",
    "        plt.show()\n",
    "\n",
    "### bar plot\n",
    "Unlike histogram, a bar chart is commonly used to compare the values of a variable at a given point in time. \n",
    "\n",
    "        df['col'].plot(kind='bar')\n",
    "        plt.show()\n",
    "        \n",
    "\n",
    "        "
   ]
  },
  {
   "cell_type": "markdown",
   "metadata": {},
   "source": [
    "# Week 2 - II\n",
    "source : https://labs.cognitiveclass.ai/tools/jupyterlab/lab/tree/labs/DV0101EN/DV0101EN-2-3-1-Pie-Charts-Box-Plots-Scatter-Plots-and-Bubble-Plots-py-v2.0.ipynb"
   ]
  },
  {
   "cell_type": "markdown",
   "metadata": {},
   "source": [
    "### Pie Chart\n",
    "A pie chart is a circular statistical graphic divided into slices to illustrate numerical proportion. Bar chart is a better alternative.\n",
    "\n",
    "    df.plot(kind='pie')\n",
    "    plt.show()\n",
    "    \n",
    "### Box Plot\n",
    "A box plot is a way of statistically representing the distribution of given data through five main dimensions. First is minimum, 25%, median, 75%, maximum.\n",
    "\n",
    "    df.plot(kind='box')\n",
    "    plt.show()\n",
    "    \n",
    "### Scatter Plot\n",
    "A scatter plot is a type of plot that displays values pertaining to typically two variables against each other. Generally, it is done with dependent and independent variable. \n",
    "\n",
    "    df.plot(kind='scatter', x='col1', y='col2')\n",
    "    plt.show()"
   ]
  },
  {
   "cell_type": "markdown",
   "metadata": {},
   "source": [
    "# Week 3\n",
    "source : https://labs.cognitiveclass.ai/tools/jupyterlab/lab/tree/labs/DV0101EN/DV0101EN-3-5-1-Generating-Maps-in-Python-py-v2.0.ipynb"
   ]
  },
  {
   "cell_type": "markdown",
   "metadata": {},
   "source": [
    "### Wafle Charts\n",
    "A waffle chart is an interesting visualization that is normally created to display progress towards goals. For eg: daily contribution graph in github or kaggle. Matplotlib doesn't have a function to create waffle chart.\n",
    "\n",
    "### Word Cloud\n",
    " A word cloud is simply a depiction of the importance of different words in the body of text. A word cloud works in a simple way; the more a specific word appears in a source of textual data the bigger and bolder it appears in the world cloud. Matplotlib doesn't have a function to create word cloud.\n",
    " \n",
    "### Regression Plot : Seaborn\n",
    "Seaborn is based on matplotlib. Created to provide high lable graphics. Very less code to create visualizations using seaborn. we can optimize marker and color by using respective arguments.\n",
    "\n",
    "    sns.regplot(x='col1', y='col2', data=df)\n",
    "    plt.show()\n",
    "    \n",
    "### Introduction to folium\n",
    "Folium is a powerful data visualization library in Python that was built primarily to help people visualize geospatial data. With Folium, you can create a map of any location in the world as long as you know its latitude and longitude values. It is interactive.\n",
    "\n",
    "        world_map = folium.Map() # create the map\n",
    "        world_map # show the map\n",
    "        \n",
    "        # map of canada\n",
    "        world_map = folium.Map(location = [56.130, -106.35], zoom_start=4)\n",
    "        world_map\n",
    "        \n",
    "        # using tiles param we can create various styles of map : Stamen Toner, Stamen Terrain\n",
    "        \n",
    "- We can add a marker at a point by creating feature group. \n",
    "\n",
    "        center = folium.map.FeatureGroup()\n",
    "        center.add_child(folium.features.CircleMarker([51.02, -103.26], radius=5, color='red', fill_color='red')\n",
    "        world_map.add_child(center)\n",
    "        folium.marker([51.02, -103.26], popup = 'center').add_to(world_map)\n",
    "        world_map\n",
    "        \n",
    "### Choropleth Maps\n",
    "choropleth map is a thematic map in which areas are shaded or patterned in proportion to the measurement of the statistical variable being displayed on the map, such as population density or per capita income. The higher the measurement, the darker the color. We need Geojson file for creating the geospatial data. A GeoJson file is a json file which contains values like country name, type, coordinates and other information. \n",
    "\n",
    "        world_map = folium.Map(zoom_start=3, tiles='MapBox Bright')\n",
    "        geojson = r'World_countries.json'\n",
    "        world_map.choropleth(geo_path=geojson, data= df,columns=['country', 'total'], key_on=feature.properties.name,\n",
    "                                fill_color='red', legend_name='Immigration')\n",
    "        world_map"
   ]
  },
  {
   "cell_type": "code",
   "execution_count": null,
   "metadata": {},
   "outputs": [],
   "source": []
  }
 ],
 "metadata": {
  "kernelspec": {
   "display_name": "Python 3",
   "language": "python",
   "name": "python3"
  },
  "language_info": {
   "codemirror_mode": {
    "name": "ipython",
    "version": 3
   },
   "file_extension": ".py",
   "mimetype": "text/x-python",
   "name": "python",
   "nbconvert_exporter": "python",
   "pygments_lexer": "ipython3",
   "version": "3.7.4"
  }
 },
 "nbformat": 4,
 "nbformat_minor": 2
}
